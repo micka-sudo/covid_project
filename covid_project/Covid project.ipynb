{
 "cells": [
  {
   "cell_type": "markdown",
   "metadata": {
    "toc": true
   },
   "source": [
    "<h1>Table of Contents<span class=\"tocSkip\"></span></h1>\n",
    "<div class=\"toc\"><ul class=\"toc-item\"><li><span><a href=\"#Date-Frame\" data-toc-modified-id=\"Date-Frame-1\"><span class=\"toc-item-num\">1&nbsp;&nbsp;</span>Date Frame</a></span><ul class=\"toc-item\"><li><span><a href=\"#Analyse-Data\" data-toc-modified-id=\"Analyse-Data-1.1\"><span class=\"toc-item-num\">1.1&nbsp;&nbsp;</span>Analyse Data</a></span></li></ul></li></ul></div>"
   ]
  },
  {
   "cell_type": "markdown",
   "metadata": {},
   "source": [
    "### Date Frame"
   ]
  },
  {
   "cell_type": "code",
   "execution_count": 1,
   "metadata": {
    "ExecuteTime": {
     "end_time": "2021-03-30T11:58:12.168547Z",
     "start_time": "2021-03-30T11:58:10.483552Z"
    }
   },
   "outputs": [],
   "source": [
    "import pandas as pd "
   ]
  },
  {
   "cell_type": "code",
   "execution_count": 20,
   "metadata": {
    "ExecuteTime": {
     "end_time": "2021-03-30T12:07:56.837547Z",
     "start_time": "2021-03-30T12:07:56.800549Z"
    }
   },
   "outputs": [
    {
     "data": {
      "text/html": [
       "<div>\n",
       "<style scoped>\n",
       "    .dataframe tbody tr th:only-of-type {\n",
       "        vertical-align: middle;\n",
       "    }\n",
       "\n",
       "    .dataframe tbody tr th {\n",
       "        vertical-align: top;\n",
       "    }\n",
       "\n",
       "    .dataframe thead th {\n",
       "        text-align: right;\n",
       "    }\n",
       "</style>\n",
       "<table border=\"1\" class=\"dataframe\">\n",
       "  <thead>\n",
       "    <tr style=\"text-align: right;\">\n",
       "      <th></th>\n",
       "      <th>Code</th>\n",
       "      <th>Libellé</th>\n",
       "      <th>Couverture vaccinale 2021-03-28</th>\n",
       "      <th>Couverture vaccinale 2 doses 2021-03-28</th>\n",
       "      <th>Nb cumulé de professionnels de santé vaccinés 2021-03-28</th>\n",
       "      <th>Nb cumulé de professionnels de santé vaccinés selon sexe 2021-03-28</th>\n",
       "      <th>Nb cumulé de professionnels de santé vaccinés selon l'âge 2021-03-28</th>\n",
       "      <th>Nb cumulé de professionnels de santé, en établissement de santé, vaccinés 2021-03-28</th>\n",
       "      <th>Nb cumulé de professionnels de santé en ambulatoire vaccinés 2021-03-28</th>\n",
       "      <th>Nb cumulé de professionnels de santé vaccinés 2 doses 2021-03-28</th>\n",
       "    </tr>\n",
       "  </thead>\n",
       "  <tbody>\n",
       "    <tr>\n",
       "      <th>0</th>\n",
       "      <td>01</td>\n",
       "      <td>Ain</td>\n",
       "      <td>41.0</td>\n",
       "      <td>20.6</td>\n",
       "      <td>NaN</td>\n",
       "      <td>NaN</td>\n",
       "      <td>NaN</td>\n",
       "      <td>3746.0</td>\n",
       "      <td>755.0</td>\n",
       "      <td>NaN</td>\n",
       "    </tr>\n",
       "    <tr>\n",
       "      <th>1</th>\n",
       "      <td>02</td>\n",
       "      <td>Aisne</td>\n",
       "      <td>54.0</td>\n",
       "      <td>30.0</td>\n",
       "      <td>7884.0</td>\n",
       "      <td>7884.0</td>\n",
       "      <td>7884.0</td>\n",
       "      <td>4748.0</td>\n",
       "      <td>735.0</td>\n",
       "      <td>4378.0</td>\n",
       "    </tr>\n",
       "    <tr>\n",
       "      <th>2</th>\n",
       "      <td>03</td>\n",
       "      <td>Allier</td>\n",
       "      <td>59.1</td>\n",
       "      <td>38.9</td>\n",
       "      <td>NaN</td>\n",
       "      <td>NaN</td>\n",
       "      <td>NaN</td>\n",
       "      <td>3895.0</td>\n",
       "      <td>615.0</td>\n",
       "      <td>NaN</td>\n",
       "    </tr>\n",
       "    <tr>\n",
       "      <th>3</th>\n",
       "      <td>04</td>\n",
       "      <td>Alpes-de-Haute-Provence</td>\n",
       "      <td>38.2</td>\n",
       "      <td>23.8</td>\n",
       "      <td>NaN</td>\n",
       "      <td>NaN</td>\n",
       "      <td>NaN</td>\n",
       "      <td>1004.0</td>\n",
       "      <td>373.0</td>\n",
       "      <td>NaN</td>\n",
       "    </tr>\n",
       "    <tr>\n",
       "      <th>4</th>\n",
       "      <td>05</td>\n",
       "      <td>Hautes-Alpes</td>\n",
       "      <td>34.3</td>\n",
       "      <td>18.1</td>\n",
       "      <td>NaN</td>\n",
       "      <td>NaN</td>\n",
       "      <td>NaN</td>\n",
       "      <td>1173.0</td>\n",
       "      <td>465.0</td>\n",
       "      <td>NaN</td>\n",
       "    </tr>\n",
       "  </tbody>\n",
       "</table>\n",
       "</div>"
      ],
      "text/plain": [
       "  Code                  Libellé  Couverture vaccinale 2021-03-28  \\\n",
       "0   01                      Ain                             41.0   \n",
       "1   02                    Aisne                             54.0   \n",
       "2   03                   Allier                             59.1   \n",
       "3   04  Alpes-de-Haute-Provence                             38.2   \n",
       "4   05             Hautes-Alpes                             34.3   \n",
       "\n",
       "   Couverture vaccinale 2 doses 2021-03-28  \\\n",
       "0                                     20.6   \n",
       "1                                     30.0   \n",
       "2                                     38.9   \n",
       "3                                     23.8   \n",
       "4                                     18.1   \n",
       "\n",
       "   Nb cumulé de professionnels de santé vaccinés 2021-03-28  \\\n",
       "0                                                NaN          \n",
       "1                                             7884.0          \n",
       "2                                                NaN          \n",
       "3                                                NaN          \n",
       "4                                                NaN          \n",
       "\n",
       "   Nb cumulé de professionnels de santé vaccinés selon sexe 2021-03-28  \\\n",
       "0                                                NaN                     \n",
       "1                                             7884.0                     \n",
       "2                                                NaN                     \n",
       "3                                                NaN                     \n",
       "4                                                NaN                     \n",
       "\n",
       "   Nb cumulé de professionnels de santé vaccinés selon l'âge 2021-03-28  \\\n",
       "0                                                NaN                      \n",
       "1                                             7884.0                      \n",
       "2                                                NaN                      \n",
       "3                                                NaN                      \n",
       "4                                                NaN                      \n",
       "\n",
       "   Nb cumulé de professionnels de santé, en établissement de santé, vaccinés 2021-03-28  \\\n",
       "0                                             3746.0                                      \n",
       "1                                             4748.0                                      \n",
       "2                                             3895.0                                      \n",
       "3                                             1004.0                                      \n",
       "4                                             1173.0                                      \n",
       "\n",
       "   Nb cumulé de professionnels de santé en ambulatoire vaccinés 2021-03-28  \\\n",
       "0                                              755.0                         \n",
       "1                                              735.0                         \n",
       "2                                              615.0                         \n",
       "3                                              373.0                         \n",
       "4                                              465.0                         \n",
       "\n",
       "   Nb cumulé de professionnels de santé vaccinés 2 doses 2021-03-28  \n",
       "0                                                NaN                 \n",
       "1                                             4378.0                 \n",
       "2                                                NaN                 \n",
       "3                                                NaN                 \n",
       "4                                                NaN                 "
      ]
     },
     "execution_count": 20,
     "metadata": {},
     "output_type": "execute_result"
    }
   ],
   "source": [
    "df_cov = pd.read_csv(\"data.csv\", sep=';', header=2, )\n",
    "df_cov.head()"
   ]
  },
  {
   "cell_type": "markdown",
   "metadata": {},
   "source": [
    "#### Analyse Data"
   ]
  },
  {
   "cell_type": "code",
   "execution_count": 21,
   "metadata": {
    "ExecuteTime": {
     "end_time": "2021-03-30T12:08:04.649554Z",
     "start_time": "2021-03-30T12:08:04.639047Z"
    }
   },
   "outputs": [
    {
     "name": "stdout",
     "output_type": "stream",
     "text": [
      "<class 'pandas.core.frame.DataFrame'>\n",
      "RangeIndex: 104 entries, 0 to 103\n",
      "Data columns (total 10 columns):\n",
      " #   Column                                                                                Non-Null Count  Dtype  \n",
      "---  ------                                                                                --------------  -----  \n",
      " 0   Code                                                                                  104 non-null    object \n",
      " 1   Libellé                                                                               104 non-null    object \n",
      " 2   Couverture vaccinale 2021-03-28                                                       101 non-null    float64\n",
      " 3   Couverture vaccinale 2 doses 2021-03-28                                               101 non-null    float64\n",
      " 4   Nb cumulé de professionnels de santé vaccinés 2021-03-28                              68 non-null     float64\n",
      " 5   Nb cumulé de professionnels de santé vaccinés selon sexe 2021-03-28                   68 non-null     float64\n",
      " 6   Nb cumulé de professionnels de santé vaccinés selon l'âge 2021-03-28                  68 non-null     float64\n",
      " 7   Nb cumulé de professionnels de santé, en établissement de santé, vaccinés 2021-03-28  103 non-null    float64\n",
      " 8   Nb cumulé de professionnels de santé en ambulatoire vaccinés 2021-03-28               103 non-null    float64\n",
      " 9   Nb cumulé de professionnels de santé vaccinés 2 doses 2021-03-28                      68 non-null     float64\n",
      "dtypes: float64(8), object(2)\n",
      "memory usage: 8.2+ KB\n"
     ]
    }
   ],
   "source": [
    "df_cov.info()"
   ]
  },
  {
   "cell_type": "code",
   "execution_count": 22,
   "metadata": {
    "ExecuteTime": {
     "end_time": "2021-03-30T12:08:58.361046Z",
     "start_time": "2021-03-30T12:08:58.316053Z"
    }
   },
   "outputs": [
    {
     "data": {
      "text/html": [
       "<div>\n",
       "<style scoped>\n",
       "    .dataframe tbody tr th:only-of-type {\n",
       "        vertical-align: middle;\n",
       "    }\n",
       "\n",
       "    .dataframe tbody tr th {\n",
       "        vertical-align: top;\n",
       "    }\n",
       "\n",
       "    .dataframe thead th {\n",
       "        text-align: right;\n",
       "    }\n",
       "</style>\n",
       "<table border=\"1\" class=\"dataframe\">\n",
       "  <thead>\n",
       "    <tr style=\"text-align: right;\">\n",
       "      <th></th>\n",
       "      <th>Couverture vaccinale 2021-03-28</th>\n",
       "      <th>Couverture vaccinale 2 doses 2021-03-28</th>\n",
       "      <th>Nb cumulé de professionnels de santé vaccinés 2021-03-28</th>\n",
       "      <th>Nb cumulé de professionnels de santé vaccinés selon sexe 2021-03-28</th>\n",
       "      <th>Nb cumulé de professionnels de santé vaccinés selon l'âge 2021-03-28</th>\n",
       "      <th>Nb cumulé de professionnels de santé, en établissement de santé, vaccinés 2021-03-28</th>\n",
       "      <th>Nb cumulé de professionnels de santé en ambulatoire vaccinés 2021-03-28</th>\n",
       "      <th>Nb cumulé de professionnels de santé vaccinés 2 doses 2021-03-28</th>\n",
       "    </tr>\n",
       "  </thead>\n",
       "  <tbody>\n",
       "    <tr>\n",
       "      <th>count</th>\n",
       "      <td>101.000000</td>\n",
       "      <td>101.000000</td>\n",
       "      <td>68.000000</td>\n",
       "      <td>68.000000</td>\n",
       "      <td>68.000000</td>\n",
       "      <td>103.000000</td>\n",
       "      <td>103.000000</td>\n",
       "      <td>68.000000</td>\n",
       "    </tr>\n",
       "    <tr>\n",
       "      <th>mean</th>\n",
       "      <td>54.517822</td>\n",
       "      <td>29.433663</td>\n",
       "      <td>13928.970588</td>\n",
       "      <td>13928.970588</td>\n",
       "      <td>13928.970588</td>\n",
       "      <td>7153.834951</td>\n",
       "      <td>1500.058252</td>\n",
       "      <td>7051.147059</td>\n",
       "    </tr>\n",
       "    <tr>\n",
       "      <th>std</th>\n",
       "      <td>11.417954</td>\n",
       "      <td>7.174682</td>\n",
       "      <td>10967.545775</td>\n",
       "      <td>10967.545775</td>\n",
       "      <td>10967.545775</td>\n",
       "      <td>7537.351804</td>\n",
       "      <td>1320.384932</td>\n",
       "      <td>5004.401899</td>\n",
       "    </tr>\n",
       "    <tr>\n",
       "      <th>min</th>\n",
       "      <td>12.000000</td>\n",
       "      <td>5.600000</td>\n",
       "      <td>1704.000000</td>\n",
       "      <td>1704.000000</td>\n",
       "      <td>1704.000000</td>\n",
       "      <td>13.000000</td>\n",
       "      <td>2.000000</td>\n",
       "      <td>1003.000000</td>\n",
       "    </tr>\n",
       "    <tr>\n",
       "      <th>25%</th>\n",
       "      <td>49.100000</td>\n",
       "      <td>25.100000</td>\n",
       "      <td>6290.750000</td>\n",
       "      <td>6290.750000</td>\n",
       "      <td>6290.750000</td>\n",
       "      <td>2444.000000</td>\n",
       "      <td>577.500000</td>\n",
       "      <td>3462.000000</td>\n",
       "    </tr>\n",
       "    <tr>\n",
       "      <th>50%</th>\n",
       "      <td>54.900000</td>\n",
       "      <td>29.500000</td>\n",
       "      <td>11849.500000</td>\n",
       "      <td>11849.500000</td>\n",
       "      <td>11849.500000</td>\n",
       "      <td>4748.000000</td>\n",
       "      <td>1030.000000</td>\n",
       "      <td>5861.500000</td>\n",
       "    </tr>\n",
       "    <tr>\n",
       "      <th>75%</th>\n",
       "      <td>61.800000</td>\n",
       "      <td>33.700000</td>\n",
       "      <td>17520.750000</td>\n",
       "      <td>17520.750000</td>\n",
       "      <td>17520.750000</td>\n",
       "      <td>9550.000000</td>\n",
       "      <td>2060.500000</td>\n",
       "      <td>9196.750000</td>\n",
       "    </tr>\n",
       "    <tr>\n",
       "      <th>max</th>\n",
       "      <td>81.300000</td>\n",
       "      <td>45.400000</td>\n",
       "      <td>63259.000000</td>\n",
       "      <td>63259.000000</td>\n",
       "      <td>63259.000000</td>\n",
       "      <td>54334.000000</td>\n",
       "      <td>6146.000000</td>\n",
       "      <td>26649.000000</td>\n",
       "    </tr>\n",
       "  </tbody>\n",
       "</table>\n",
       "</div>"
      ],
      "text/plain": [
       "       Couverture vaccinale 2021-03-28  \\\n",
       "count                       101.000000   \n",
       "mean                         54.517822   \n",
       "std                          11.417954   \n",
       "min                          12.000000   \n",
       "25%                          49.100000   \n",
       "50%                          54.900000   \n",
       "75%                          61.800000   \n",
       "max                          81.300000   \n",
       "\n",
       "       Couverture vaccinale 2 doses 2021-03-28  \\\n",
       "count                               101.000000   \n",
       "mean                                 29.433663   \n",
       "std                                   7.174682   \n",
       "min                                   5.600000   \n",
       "25%                                  25.100000   \n",
       "50%                                  29.500000   \n",
       "75%                                  33.700000   \n",
       "max                                  45.400000   \n",
       "\n",
       "       Nb cumulé de professionnels de santé vaccinés 2021-03-28  \\\n",
       "count                                          68.000000          \n",
       "mean                                        13928.970588          \n",
       "std                                         10967.545775          \n",
       "min                                          1704.000000          \n",
       "25%                                          6290.750000          \n",
       "50%                                         11849.500000          \n",
       "75%                                         17520.750000          \n",
       "max                                         63259.000000          \n",
       "\n",
       "       Nb cumulé de professionnels de santé vaccinés selon sexe 2021-03-28  \\\n",
       "count                                          68.000000                     \n",
       "mean                                        13928.970588                     \n",
       "std                                         10967.545775                     \n",
       "min                                          1704.000000                     \n",
       "25%                                          6290.750000                     \n",
       "50%                                         11849.500000                     \n",
       "75%                                         17520.750000                     \n",
       "max                                         63259.000000                     \n",
       "\n",
       "       Nb cumulé de professionnels de santé vaccinés selon l'âge 2021-03-28  \\\n",
       "count                                          68.000000                      \n",
       "mean                                        13928.970588                      \n",
       "std                                         10967.545775                      \n",
       "min                                          1704.000000                      \n",
       "25%                                          6290.750000                      \n",
       "50%                                         11849.500000                      \n",
       "75%                                         17520.750000                      \n",
       "max                                         63259.000000                      \n",
       "\n",
       "       Nb cumulé de professionnels de santé, en établissement de santé, vaccinés 2021-03-28  \\\n",
       "count                                         103.000000                                      \n",
       "mean                                         7153.834951                                      \n",
       "std                                          7537.351804                                      \n",
       "min                                            13.000000                                      \n",
       "25%                                          2444.000000                                      \n",
       "50%                                          4748.000000                                      \n",
       "75%                                          9550.000000                                      \n",
       "max                                         54334.000000                                      \n",
       "\n",
       "       Nb cumulé de professionnels de santé en ambulatoire vaccinés 2021-03-28  \\\n",
       "count                                         103.000000                         \n",
       "mean                                         1500.058252                         \n",
       "std                                          1320.384932                         \n",
       "min                                             2.000000                         \n",
       "25%                                           577.500000                         \n",
       "50%                                          1030.000000                         \n",
       "75%                                          2060.500000                         \n",
       "max                                          6146.000000                         \n",
       "\n",
       "       Nb cumulé de professionnels de santé vaccinés 2 doses 2021-03-28  \n",
       "count                                          68.000000                 \n",
       "mean                                         7051.147059                 \n",
       "std                                          5004.401899                 \n",
       "min                                          1003.000000                 \n",
       "25%                                          3462.000000                 \n",
       "50%                                          5861.500000                 \n",
       "75%                                          9196.750000                 \n",
       "max                                         26649.000000                 "
      ]
     },
     "execution_count": 22,
     "metadata": {},
     "output_type": "execute_result"
    }
   ],
   "source": [
    "df_cov.describe()"
   ]
  },
  {
   "cell_type": "code",
   "execution_count": 23,
   "metadata": {
    "ExecuteTime": {
     "end_time": "2021-03-30T12:09:36.844044Z",
     "start_time": "2021-03-30T12:09:36.827046Z"
    }
   },
   "outputs": [
    {
     "data": {
      "text/plain": [
       "Code                                                                                    104\n",
       "Libellé                                                                                 104\n",
       "Couverture vaccinale 2021-03-28                                                          94\n",
       "Couverture vaccinale 2 doses 2021-03-28                                                  85\n",
       "Nb cumulé de professionnels de santé vaccinés 2021-03-28                                 68\n",
       "Nb cumulé de professionnels de santé vaccinés selon sexe 2021-03-28                      68\n",
       "Nb cumulé de professionnels de santé vaccinés selon l'âge 2021-03-28                     68\n",
       "Nb cumulé de professionnels de santé, en établissement de santé, vaccinés 2021-03-28    102\n",
       "Nb cumulé de professionnels de santé en ambulatoire vaccinés 2021-03-28                 102\n",
       "Nb cumulé de professionnels de santé vaccinés 2 doses 2021-03-28                         68\n",
       "dtype: int64"
      ]
     },
     "execution_count": 23,
     "metadata": {},
     "output_type": "execute_result"
    }
   ],
   "source": [
    "df_cov.nunique()"
   ]
  },
  {
   "cell_type": "code",
   "execution_count": 24,
   "metadata": {
    "ExecuteTime": {
     "end_time": "2021-03-30T12:10:16.962048Z",
     "start_time": "2021-03-30T12:10:16.955056Z"
    }
   },
   "outputs": [
    {
     "data": {
      "text/plain": [
       "Code                                                                                     0\n",
       "Libellé                                                                                  0\n",
       "Couverture vaccinale 2021-03-28                                                          3\n",
       "Couverture vaccinale 2 doses 2021-03-28                                                  3\n",
       "Nb cumulé de professionnels de santé vaccinés 2021-03-28                                36\n",
       "Nb cumulé de professionnels de santé vaccinés selon sexe 2021-03-28                     36\n",
       "Nb cumulé de professionnels de santé vaccinés selon l'âge 2021-03-28                    36\n",
       "Nb cumulé de professionnels de santé, en établissement de santé, vaccinés 2021-03-28     1\n",
       "Nb cumulé de professionnels de santé en ambulatoire vaccinés 2021-03-28                  1\n",
       "Nb cumulé de professionnels de santé vaccinés 2 doses 2021-03-28                        36\n",
       "dtype: int64"
      ]
     },
     "execution_count": 24,
     "metadata": {},
     "output_type": "execute_result"
    }
   ],
   "source": [
    "df_cov.isnull().sum()"
   ]
  },
  {
   "cell_type": "code",
   "execution_count": 25,
   "metadata": {
    "ExecuteTime": {
     "end_time": "2021-03-30T12:10:46.511047Z",
     "start_time": "2021-03-30T12:10:44.787056Z"
    }
   },
   "outputs": [
    {
     "data": {
      "text/plain": [
       "array([[<AxesSubplot:title={'center':'Couverture vaccinale 2021-03-28'}>,\n",
       "        <AxesSubplot:title={'center':'Couverture vaccinale 2 doses 2021-03-28'}>,\n",
       "        <AxesSubplot:title={'center':'Nb cumulé de professionnels de santé vaccinés 2021-03-28'}>],\n",
       "       [<AxesSubplot:title={'center':'Nb cumulé de professionnels de santé vaccinés selon sexe 2021-03-28'}>,\n",
       "        <AxesSubplot:title={'center':\"Nb cumulé de professionnels de santé vaccinés selon l'âge 2021-03-28\"}>,\n",
       "        <AxesSubplot:title={'center':'Nb cumulé de professionnels de santé, en établissement de santé, vaccinés 2021-03-28'}>],\n",
       "       [<AxesSubplot:title={'center':'Nb cumulé de professionnels de santé en ambulatoire vaccinés 2021-03-28'}>,\n",
       "        <AxesSubplot:title={'center':'Nb cumulé de professionnels de santé vaccinés 2 doses 2021-03-28'}>,\n",
       "        <AxesSubplot:>]], dtype=object)"
      ]
     },
     "execution_count": 25,
     "metadata": {},
     "output_type": "execute_result"
    },
    {
     "data": {
      "image/png": "[encoded data removed]",
      "text/plain": [
       "<Figure size 432x288 with 9 Axes>"
      ]
     },
     "metadata": {
      "needs_background": "light"
     },
     "output_type": "display_data"
    }
   ],
   "source": [
    "df_cov.hist()"
   ]
  },
  {
   "cell_type": "code",
   "execution_count": null,
   "metadata": {},
   "outputs": [],
   "source": []
  }
 ],
 "metadata": {
  "kernelspec": {
   "display_name": "Python 3",
   "language": "python",
   "name": "python3"
  },
  "language_info": {
   "codemirror_mode": {
    "name": "ipython",
    "version": 3
   },
   "file_extension": ".py",
   "mimetype": "text/x-python",
   "name": "python",
   "nbconvert_exporter": "python",
   "pygments_lexer": "ipython3",
   "version": "3.7.9"
  },
  "toc": {
   "base_numbering": 1,
   "nav_menu": {},
   "number_sections": true,
   "sideBar": true,
   "skip_h1_title": false,
   "title_cell": "Table of Contents",
   "title_sidebar": "Contents",
   "toc_cell": true,
   "toc_position": {},
   "toc_section_display": true,
   "toc_window_display": false
  },
  "varInspector": {
   "cols": {
    "lenName": 16,
    "lenType": 16,
    "lenVar": 40
   },
   "kernels_config": {
    "python": {
     "delete_cmd_postfix": "",
     "delete_cmd_prefix": "del ",
     "library": "var_list.py",
     "varRefreshCmd": "print(var_dic_list())"
    },
    "r": {
     "delete_cmd_postfix": ") ",
     "delete_cmd_prefix": "rm(",
     "library": "var_list.r",
     "varRefreshCmd": "cat(var_dic_list()) "
    }
   },
   "types_to_exclude": [
    "module",
    "function",
    "builtin_function_or_method",
    "instance",
    "_Feature"
   ],
   "window_display": false
  }
 },
 "nbformat": 4,
 "nbformat_minor": 4
}
