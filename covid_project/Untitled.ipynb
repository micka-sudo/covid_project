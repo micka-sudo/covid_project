{
 "cells": [
  {
   "cell_type": "markdown",
   "id": "stainless-prospect",
   "metadata": {
    "toc": true
   },
   "source": [
    "<h1>Table of Contents<span class=\"tocSkip\"></span></h1>\n",
    "<div class=\"toc\"><ul class=\"toc-item\"></ul></div>"
   ]
  },
  {
   "cell_type": "code",
   "execution_count": 4,
   "id": "incident-firewall",
   "metadata": {
    "ExecuteTime": {
     "end_time": "2021-03-30T17:10:28.845055Z",
     "start_time": "2021-03-30T17:10:28.827557Z"
    }
   },
   "outputs": [],
   "source": [
    "import pymongo\n",
    "import math"
   ]
  },
  {
   "cell_type": "code",
   "execution_count": 2,
   "id": "enormous-sender",
   "metadata": {
    "ExecuteTime": {
     "end_time": "2021-03-30T17:10:12.776555Z",
     "start_time": "2021-03-30T17:10:09.218060Z"
    }
   },
   "outputs": [
    {
     "name": "stdout",
     "output_type": "stream",
     "text": [
      "Collecting pymongo\n",
      "  Downloading pymongo-3.11.3-cp38-cp38-win_amd64.whl (383 kB)\n",
      "Installing collected packages: pymongo\n",
      "Successfully installed pymongo-3.11.3\n",
      "Note: you may need to restart the kernel to use updated packages.\n"
     ]
    }
   ],
   "source": []
  },
  {
   "cell_type": "code",
   "execution_count": 5,
   "id": "quality-organization",
   "metadata": {
    "ExecuteTime": {
     "end_time": "2021-03-30T17:10:51.000554Z",
     "start_time": "2021-03-30T17:10:50.886055Z"
    }
   },
   "outputs": [],
   "source": [
    "client = pymongo.MongoClient('127.0.0.1',27017)\n",
    "mydb = client[\"test\"]\n",
    "sinfun = mydb[\"sin\"]"
   ]
  },
  {
   "cell_type": "code",
   "execution_count": 6,
   "id": "closed-fundamental",
   "metadata": {
    "ExecuteTime": {
     "end_time": "2021-03-30T17:11:01.408055Z",
     "start_time": "2021-03-30T17:11:01.399554Z"
    }
   },
   "outputs": [
    {
     "name": "stdout",
     "output_type": "stream",
     "text": [
      "insert\n"
     ]
    }
   ],
   "source": [
    "print('insert')"
   ]
  },
  {
   "cell_type": "code",
   "execution_count": 7,
   "id": "union-object",
   "metadata": {
    "ExecuteTime": {
     "end_time": "2021-03-30T17:11:12.149559Z",
     "start_time": "2021-03-30T17:11:12.122555Z"
    }
   },
   "outputs": [
    {
     "name": "stdout",
     "output_type": "stream",
     "text": [
      "done\n"
     ]
    }
   ],
   "source": [
    "data = []\n",
    "for i in range(100):\n",
    "    x = i/10.\n",
    "    y = math.sin(x)\n",
    "    data.append({'x':x,'y':y})\n",
    "# the list of records is written to the database in one go:\n",
    "sinfun.insert_many(data)\n",
    "print('done')"
   ]
  },
  {
   "cell_type": "code",
   "execution_count": null,
   "id": "short-twist",
   "metadata": {},
   "outputs": [],
   "source": []
  }
 ],
 "metadata": {
  "kernelspec": {
   "display_name": "Python 3",
   "language": "python",
   "name": "python3"
  },
  "toc": {
   "base_numbering": 1,
   "nav_menu": {},
   "number_sections": true,
   "sideBar": true,
   "skip_h1_title": false,
   "title_cell": "Table of Contents",
   "title_sidebar": "Contents",
   "toc_cell": true,
   "toc_position": {},
   "toc_section_display": true,
   "toc_window_display": false
  },
  "varInspector": {
   "cols": {
    "lenName": 16,
    "lenType": 16,
    "lenVar": 40
   },
   "kernels_config": {
    "python": {
     "delete_cmd_postfix": "",
     "delete_cmd_prefix": "del ",
     "library": "var_list.py",
     "varRefreshCmd": "print(var_dic_list())"
    },
    "r": {
     "delete_cmd_postfix": ") ",
     "delete_cmd_prefix": "rm(",
     "library": "var_list.r",
     "varRefreshCmd": "cat(var_dic_list()) "
    }
   },
   "types_to_exclude": [
    "module",
    "function",
    "builtin_function_or_method",
    "instance",
    "_Feature"
   ],
   "window_display": false
  }
 },
 "nbformat": 4,
 "nbformat_minor": 5
}
